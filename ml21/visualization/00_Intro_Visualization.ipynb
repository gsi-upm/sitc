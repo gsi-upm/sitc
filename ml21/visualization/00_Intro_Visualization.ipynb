{
 "cells": [
  {
   "cell_type": "markdown",
   "metadata": {
    "slideshow": {
     "slide_type": "skip"
    }
   },
   "source": [
    "![](images/EscUpmPolit_p.gif \"UPM\")"
   ]
  },
  {
   "cell_type": "markdown",
   "metadata": {
    "slideshow": {
     "slide_type": "skip"
    }
   },
   "source": [
    "# Course Notes for Learning Intelligent Systems"
   ]
  },
  {
   "cell_type": "markdown",
   "metadata": {
    "slideshow": {
     "slide_type": "skip"
    }
   },
   "source": [
    "Department of Telematic Engineering Systems, Universidad Politécnica de Madrid, © Carlos A. Iglesias"
   ]
  },
  {
   "cell_type": "markdown",
   "metadata": {
    "slideshow": {
     "slide_type": "slide"
    }
   },
   "source": [
    "# Introduction to Visualization\n",
    " \n",
    "In this session, we will get more insight regarding how to visualize data.\n",
    "\n",
    "# Objectives\n",
    "\n",
    "The main objectives of this session are:\n",
    "* Understanding how to visualize data\n",
    "* Understanding the purpose of different charts \n",
    "* Experimenting with several environments for visualizing data\n",
    "\n"
   ]
  },
  {
   "cell_type": "markdown",
   "metadata": {
    "slideshow": {
     "slide_type": "slide"
    }
   },
   "source": [
    "# Seaborn\n",
    "\n",
    "Seaborn is a library that visualizes data in Python. The main characteristics are:\n",
    "\n",
    "* A dataset-oriented API for examining relationships between multiple variables\n",
    "* Specialized support for using categorical variables to show observations or aggregate statistics\n",
    "* Options for visualizing univariate or bivariate distributions and for comparing them between subsets of data\n",
    "* Automatic estimation and plotting of linear regression models for different kinds of dependent variables\n",
    "* Convenient views of the overall structure of complex datasets\n",
    "* High-level abstractions for structuring multi-plot grids that let you quickly build complex visualizations\n",
    "* Concise control over matplotlib figure styling with several built-in themes\n",
    "* Tools for choosing color palettes that faithfully reveal patterns in your data\n"
   ]
  },
  {
   "cell_type": "markdown",
   "metadata": {
    "slideshow": {
     "slide_type": "slide"
    }
   },
   "source": [
    "## Install\n",
    "Use:\n",
    "\n",
    "**conda install seaborn**\n",
    "\n",
    "or \n",
    "\n",
    "**pip install seaborn**"
   ]
  },
  {
   "cell_type": "markdown",
   "metadata": {
    "slideshow": {
     "slide_type": "slide"
    }
   },
   "source": [
    "# Table of Contents"
   ]
  },
  {
   "cell_type": "markdown",
   "metadata": {
    "slideshow": {
     "slide_type": "fragment"
    }
   },
   "source": [
    "1. [Home](00_Intro_Visualization.ipynb)\n",
    "2. [Dataset](01_Dataset.ipynb)\n",
    "3. [Comparison Charts](02_Comparison_Charts.ipynb)\n",
    "     1. [More Comparison Charts](02_01_More_Comparison_Charts.ipynb)\n",
    "4. [Distribution Charts](03_Distribution_Charts.ipynb)\n",
    "5. [Hierarchical charts](04_Hierarchical_Charts.ipynb)\n",
    "6. [Relational charts](05_Relational_Charts.ipynb)\n",
    "7. [Spatial charts](06_Spatial_Charts.ipynb)\n",
    "8. [Temporal charts](07_Temporal_Charts.ipynb)"
   ]
  },
  {
   "cell_type": "markdown",
   "metadata": {},
   "source": [
    "## Licence\n",
    "The notebook is freely licensed under under the [Creative Commons Attribution Share-Alike license](https://creativecommons.org/licenses/by/2.0/).  \n",
    "\n",
    "© Carlos A. Iglesias, Universidad Politécnica de Madrid."
   ]
  }
 ],
 "metadata": {
  "datacleaner": {
   "position": {
    "top": "50px"
   },
   "python": {
    "varRefreshCmd": "try:\n    print(_datacleaner.dataframe_metadata())\nexcept:\n    print([])"
   },
   "window_display": false
  },
  "kernelspec": {
   "display_name": "Python 3 (ipykernel)",
   "language": "python",
   "name": "python3"
  },
  "language_info": {
   "codemirror_mode": {
    "name": "ipython",
    "version": 3
   },
   "file_extension": ".py",
   "mimetype": "text/x-python",
   "name": "python",
   "nbconvert_exporter": "python",
   "pygments_lexer": "ipython3",
   "version": "3.11.7"
  },
  "latex_envs": {
   "LaTeX_envs_menu_present": true,
   "autocomplete": true,
   "bibliofile": "biblio.bib",
   "cite_by": "apalike",
   "current_citInitial": 1,
   "eqLabelWithNumbers": true,
   "eqNumInitial": 1,
   "hotkeys": {
    "equation": "Ctrl-E",
    "itemize": "Ctrl-I"
   },
   "labels_anchors": false,
   "latex_user_defs": false,
   "report_style_numbering": false,
   "user_envs_cfg": false
  }
 },
 "nbformat": 4,
 "nbformat_minor": 4
}
